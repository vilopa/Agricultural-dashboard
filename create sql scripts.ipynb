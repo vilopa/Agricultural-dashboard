{
 "cells": [
  {
   "cell_type": "code",
   "execution_count": 1,
   "id": "d5470091",
   "metadata": {},
   "outputs": [
    {
     "name": "stdout",
     "output_type": "stream",
     "text": [
      "Defaulting to user installation because normal site-packages is not writeable\n",
      "Requirement already satisfied: pandas in c:\\users\\user\\appdata\\roaming\\python\\python312\\site-packages (2.1.4)\n",
      "Requirement already satisfied: openpyxl in c:\\users\\user\\appdata\\roaming\\python\\python312\\site-packages (3.1.5)\n",
      "Requirement already satisfied: numpy<2,>=1.26.0 in c:\\users\\user\\appdata\\roaming\\python\\python312\\site-packages (from pandas) (1.26.3)\n",
      "Requirement already satisfied: python-dateutil>=2.8.2 in c:\\users\\user\\appdata\\roaming\\python\\python312\\site-packages (from pandas) (2.8.2)\n",
      "Requirement already satisfied: pytz>=2020.1 in c:\\users\\user\\appdata\\roaming\\python\\python312\\site-packages (from pandas) (2023.3.post1)\n",
      "Requirement already satisfied: tzdata>=2022.1 in c:\\users\\user\\appdata\\roaming\\python\\python312\\site-packages (from pandas) (2023.3)\n",
      "Requirement already satisfied: et-xmlfile in c:\\users\\user\\appdata\\roaming\\python\\python312\\site-packages (from openpyxl) (2.0.0)\n",
      "Requirement already satisfied: six>=1.5 in c:\\users\\user\\appdata\\roaming\\python\\python312\\site-packages (from python-dateutil>=2.8.2->pandas) (1.16.0)\n",
      "Note: you may need to restart the kernel to use updated packages.\n"
     ]
    },
    {
     "name": "stderr",
     "output_type": "stream",
     "text": [
      "\n",
      "[notice] A new release of pip is available: 24.3.1 -> 25.1.1\n",
      "[notice] To update, run: python.exe -m pip install --upgrade pip\n"
     ]
    }
   ],
   "source": [
    "pip install pandas openpyxl\n"
   ]
  },
  {
   "cell_type": "code",
   "execution_count": 4,
   "id": "98639f6a",
   "metadata": {},
   "outputs": [
    {
     "name": "stdout",
     "output_type": "stream",
     "text": [
      "✅ SQL script 'insert_data.sql' created successfully.\n"
     ]
    }
   ],
   "source": [
    "import pandas as pd\n",
    "\n",
    "file_path = \"C:\\\\Users\\\\user\\\\OneDrive\\\\Desktop\\\\bruce dashbord\\\\final_combined_dashboard_data_with_flags_cleaned.xlsx\"  # Change this to your Excel file path\n",
    "\n",
    "# Load Excel file\n",
    "df = pd.read_excel(file_path)  # Replace with your Excel file name\n",
    "\n",
    "# Ensure column names match SQLite table exactly\n",
    "df.columns = ['Domain_Code', 'AreaID', 'Indicator_Code', 'Item_Code_CPC', 'Year_ID', 'Value']\n",
    "\n",
    "# Define the table name\n",
    "table_name = 'Agricultural_Production_Data'\n",
    "\n",
    "# Create SQL insert statements\n",
    "sql_script = ''\n",
    "for index, row in df.iterrows():\n",
    "    values = []\n",
    "    for value in row:\n",
    "        if pd.isnull(value):\n",
    "            values.append(\"NULL\")\n",
    "        elif isinstance(value, str):\n",
    "            values.append(f\"'{value.replace('\\'', '\\'\\'')}'\")\n",
    "        else:\n",
    "            values.append(str(value))\n",
    "    \n",
    "    sql_script += f\"INSERT INTO {table_name} ({', '.join(df.columns)}) VALUES ({', '.join(values)});\\n\"\n",
    "\n",
    "# Save to a .sql file\n",
    "with open(\"insert_data.sql\", \"w\", encoding='utf-8') as f:\n",
    "    f.write(sql_script)\n",
    "\n",
    "print(\"✅ SQL script 'insert_data.sql' created successfully.\")\n"
   ]
  }
 ],
 "metadata": {
  "kernelspec": {
   "display_name": "Python 3",
   "language": "python",
   "name": "python3"
  },
  "language_info": {
   "codemirror_mode": {
    "name": "ipython",
    "version": 3
   },
   "file_extension": ".py",
   "mimetype": "text/x-python",
   "name": "python",
   "nbconvert_exporter": "python",
   "pygments_lexer": "ipython3",
   "version": "3.12.0"
  }
 },
 "nbformat": 4,
 "nbformat_minor": 5
}
